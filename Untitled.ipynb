{
 "cells": [
  {
   "cell_type": "markdown",
   "id": "21534b55",
   "metadata": {},
   "source": [
    "# Modèles de prévision des séries temporelles"
   ]
  },
  {
   "cell_type": "markdown",
   "id": "294e1ed8",
   "metadata": {},
   "source": [
    "### Importation des données"
   ]
  },
  {
   "cell_type": "code",
   "execution_count": 152,
   "id": "4fcb9d10",
   "metadata": {},
   "outputs": [],
   "source": [
    "import pandas as pd\n",
    "import seaborn as sns\n",
    "import matplotlib.pyplot as plt\n",
    "import random\n",
    "import numpy as np\n",
    "from datetime import datetime, timedelta\n",
    "from scipy.signal import savgol_filter\n",
    "# from pydrive.auth import GoogleAuth\n",
    "# from pydrive.drive import GoogleDrive\n",
    "# from io import StringIO\n",
    "import os\n",
    "import json\n",
    "from numpy import array\n",
    "from numpy import hstack\n",
    "from keras.models import Model\n",
    "from keras.models import Sequential\n",
    "from keras.layers import Input\n",
    "from keras.layers import Dense\n",
    "from keras.layers import Flatten\n",
    "from keras.layers.convolutional import Conv1D\n",
    "from keras.layers.convolutional import MaxPooling1D\n",
    "from keras.layers.merge import concatenate\n",
    "from sklearn.preprocessing import MinMaxScaler\n",
    "from keras.layers import LSTM\n",
    "from matplotlib.dates import DateFormatter\n",
    "import matplotlib.dates as mdates\n",
    "from keras.layers import Dropout\n",
    "from keras.callbacks import EarlyStopping\n",
    "from tqdm.keras import TqdmCallback\n",
    "from hyperopt import Trials, STATUS_OK, tpe, fmin, hp\n",
    "from hyperopt.pyll.base import scope\n",
    "from keras.models import load_model\n",
    "from keras.utils.vis_utils import plot_model\n",
    "#import hyperopt_mod as hm\n",
    "#import arima_mod as am\n",
    "import random\n"
   ]
  },
  {
   "cell_type": "code",
   "execution_count": 56,
   "id": "07491382",
   "metadata": {},
   "outputs": [],
   "source": [
    "import pandas as pd\n",
    "import numpy as np\n",
    "data = pd.read_csv('data_full.csv')"
   ]
  },
  {
   "cell_type": "code",
   "execution_count": 13,
   "id": "a8daf058",
   "metadata": {
    "scrolled": true
   },
   "outputs": [
    {
     "data": {
      "text/html": [
       "<div>\n",
       "<style scoped>\n",
       "    .dataframe tbody tr th:only-of-type {\n",
       "        vertical-align: middle;\n",
       "    }\n",
       "\n",
       "    .dataframe tbody tr th {\n",
       "        vertical-align: top;\n",
       "    }\n",
       "\n",
       "    .dataframe thead th {\n",
       "        text-align: right;\n",
       "    }\n",
       "</style>\n",
       "<table border=\"1\" class=\"dataframe\">\n",
       "  <thead>\n",
       "    <tr style=\"text-align: right;\">\n",
       "      <th></th>\n",
       "      <th>Res tourisme Nice Belgique</th>\n",
       "      <th>Res tourisme Nice Allemagne</th>\n",
       "      <th>Res tourisme Nice Espagne</th>\n",
       "      <th>Google trend Belgique</th>\n",
       "      <th>Google trend Allemagne</th>\n",
       "      <th>Google trend Espagne</th>\n",
       "      <th>Nouvaux cas covid Belgique</th>\n",
       "      <th>Nouvaux cas covid Allemagne</th>\n",
       "      <th>Nouvaux cas covid Espagne</th>\n",
       "      <th>Hospitalisation FR</th>\n",
       "      <th>Hospitalisation ES</th>\n",
       "      <th>Hospitalisation BE</th>\n",
       "    </tr>\n",
       "    <tr>\n",
       "      <th>Date</th>\n",
       "      <th></th>\n",
       "      <th></th>\n",
       "      <th></th>\n",
       "      <th></th>\n",
       "      <th></th>\n",
       "      <th></th>\n",
       "      <th></th>\n",
       "      <th></th>\n",
       "      <th></th>\n",
       "      <th></th>\n",
       "      <th></th>\n",
       "      <th></th>\n",
       "    </tr>\n",
       "  </thead>\n",
       "  <tbody>\n",
       "    <tr>\n",
       "      <th>2018-01-01</th>\n",
       "      <td>1297.000000</td>\n",
       "      <td>6296.000000</td>\n",
       "      <td>1967.000000</td>\n",
       "      <td>13</td>\n",
       "      <td>39</td>\n",
       "      <td>46</td>\n",
       "      <td>0</td>\n",
       "      <td>0</td>\n",
       "      <td>0</td>\n",
       "      <td>0.0</td>\n",
       "      <td>0.0</td>\n",
       "      <td>0.0</td>\n",
       "    </tr>\n",
       "    <tr>\n",
       "      <th>2018-01-15</th>\n",
       "      <td>1492.816664</td>\n",
       "      <td>6087.439233</td>\n",
       "      <td>1456.276149</td>\n",
       "      <td>17</td>\n",
       "      <td>32</td>\n",
       "      <td>31</td>\n",
       "      <td>0</td>\n",
       "      <td>0</td>\n",
       "      <td>0</td>\n",
       "      <td>0.0</td>\n",
       "      <td>0.0</td>\n",
       "      <td>0.0</td>\n",
       "    </tr>\n",
       "    <tr>\n",
       "      <th>2018-02-01</th>\n",
       "      <td>1806.000000</td>\n",
       "      <td>6929.000000</td>\n",
       "      <td>1352.000000</td>\n",
       "      <td>35</td>\n",
       "      <td>25</td>\n",
       "      <td>51</td>\n",
       "      <td>0</td>\n",
       "      <td>0</td>\n",
       "      <td>0</td>\n",
       "      <td>0.0</td>\n",
       "      <td>0.0</td>\n",
       "      <td>0.0</td>\n",
       "    </tr>\n",
       "    <tr>\n",
       "      <th>2018-02-15</th>\n",
       "      <td>1919.454182</td>\n",
       "      <td>11264.083207</td>\n",
       "      <td>2247.995266</td>\n",
       "      <td>22</td>\n",
       "      <td>52</td>\n",
       "      <td>31</td>\n",
       "      <td>0</td>\n",
       "      <td>0</td>\n",
       "      <td>0</td>\n",
       "      <td>0.0</td>\n",
       "      <td>0.0</td>\n",
       "      <td>0.0</td>\n",
       "    </tr>\n",
       "    <tr>\n",
       "      <th>2018-03-01</th>\n",
       "      <td>2166.000000</td>\n",
       "      <td>15455.000000</td>\n",
       "      <td>3096.000000</td>\n",
       "      <td>30</td>\n",
       "      <td>43</td>\n",
       "      <td>55</td>\n",
       "      <td>0</td>\n",
       "      <td>0</td>\n",
       "      <td>0</td>\n",
       "      <td>0.0</td>\n",
       "      <td>0.0</td>\n",
       "      <td>0.0</td>\n",
       "    </tr>\n",
       "  </tbody>\n",
       "</table>\n",
       "</div>"
      ],
      "text/plain": [
       "            Res tourisme Nice Belgique  Res tourisme Nice Allemagne  \\\n",
       "Date                                                                  \n",
       "2018-01-01                 1297.000000                  6296.000000   \n",
       "2018-01-15                 1492.816664                  6087.439233   \n",
       "2018-02-01                 1806.000000                  6929.000000   \n",
       "2018-02-15                 1919.454182                 11264.083207   \n",
       "2018-03-01                 2166.000000                 15455.000000   \n",
       "\n",
       "            Res tourisme Nice Espagne  Google trend Belgique  \\\n",
       "Date                                                           \n",
       "2018-01-01                1967.000000                     13   \n",
       "2018-01-15                1456.276149                     17   \n",
       "2018-02-01                1352.000000                     35   \n",
       "2018-02-15                2247.995266                     22   \n",
       "2018-03-01                3096.000000                     30   \n",
       "\n",
       "            Google trend Allemagne  Google trend Espagne  \\\n",
       "Date                                                       \n",
       "2018-01-01                      39                    46   \n",
       "2018-01-15                      32                    31   \n",
       "2018-02-01                      25                    51   \n",
       "2018-02-15                      52                    31   \n",
       "2018-03-01                      43                    55   \n",
       "\n",
       "            Nouvaux cas covid Belgique  Nouvaux cas covid Allemagne  \\\n",
       "Date                                                                  \n",
       "2018-01-01                           0                            0   \n",
       "2018-01-15                           0                            0   \n",
       "2018-02-01                           0                            0   \n",
       "2018-02-15                           0                            0   \n",
       "2018-03-01                           0                            0   \n",
       "\n",
       "            Nouvaux cas covid Espagne  Hospitalisation FR  Hospitalisation ES  \\\n",
       "Date                                                                            \n",
       "2018-01-01                          0                 0.0                 0.0   \n",
       "2018-01-15                          0                 0.0                 0.0   \n",
       "2018-02-01                          0                 0.0                 0.0   \n",
       "2018-02-15                          0                 0.0                 0.0   \n",
       "2018-03-01                          0                 0.0                 0.0   \n",
       "\n",
       "            Hospitalisation BE  \n",
       "Date                            \n",
       "2018-01-01                 0.0  \n",
       "2018-01-15                 0.0  \n",
       "2018-02-01                 0.0  \n",
       "2018-02-15                 0.0  \n",
       "2018-03-01                 0.0  "
      ]
     },
     "execution_count": 13,
     "metadata": {},
     "output_type": "execute_result"
    }
   ],
   "source": [
    "data.set_index('Unnamed: 0', inplace = True)\n",
    "data.index.names = ['Date']\n",
    "data.head()"
   ]
  },
  {
   "cell_type": "markdown",
   "id": "a822d755",
   "metadata": {},
   "source": [
    "Le jeu de données comprend :\n",
    "- les nuités dans le résidences de tourisme à Nice\n",
    "- les données google trends \n",
    "- les nouvelles contaminations Covid\n",
    "- les hospitalisations \n",
    "\n",
    "les données du tourisme sont initialement mensuelles, on s'est ramené à des valeurs tous les 15 jours avec une interpolation de degrès 2"
   ]
  },
  {
   "cell_type": "markdown",
   "id": "d62baa7f",
   "metadata": {},
   "source": [
    "# Méthodes de Deep Learning "
   ]
  },
  {
   "cell_type": "markdown",
   "id": "970f8fd8",
   "metadata": {},
   "source": [
    "## Format supervisé "
   ]
  },
  {
   "cell_type": "markdown",
   "id": "13976cae",
   "metadata": {},
   "source": [
    "#### Univarié"
   ]
  },
  {
   "cell_type": "markdown",
   "id": "22cc4100",
   "metadata": {},
   "source": [
    "Une prémière étape est de bien comprendre comment se placer dans le cadre d'un problème supervisé.  \n",
    "Si on veux pa exemple faire des prévisions sur la série suivante : "
   ]
  },
  {
   "cell_type": "code",
   "execution_count": 79,
   "id": "51bec0d7",
   "metadata": {},
   "outputs": [
    {
     "data": {
      "text/plain": [
       "array([0, 1, 2, 3, 4, 5, 6, 7, 8, 9])"
      ]
     },
     "execution_count": 79,
     "metadata": {},
     "output_type": "execute_result"
    }
   ],
   "source": [
    "serie_target = np.arange(10)\n",
    "serie_target"
   ]
  },
  {
   "cell_type": "markdown",
   "id": "ac50560e",
   "metadata": {},
   "source": [
    "Voici une fonction transforme notre problème sous une forme classique de problème supervisé avec X (features) et y la target"
   ]
  },
  {
   "cell_type": "code",
   "execution_count": 110,
   "id": "f2bc5a9d",
   "metadata": {},
   "outputs": [
    {
     "name": "stdout",
     "output_type": "stream",
     "text": [
      "input : [0 1 2 3 4], target : [5 6]\n",
      "input : [1 2 3 4 5], target : [6 7]\n",
      "input : [2 3 4 5 6], target : [7 8]\n",
      "input : [3 4 5 6 7], target : [8 9]\n"
     ]
    }
   ],
   "source": [
    "def supervi_format_uni(serie, look_back, n_steps_out):\n",
    "    \"\"\" Mise en forme entrainement supervisé de la serie\n",
    "    ici look_back représente le nombre d'observations précedentes à\n",
    "    utiliser pour faire la prédiction, n_steps_out représente le nombre\n",
    "    de pas de temps à prévoir\"\"\"\n",
    "    X_train, y_predict = list(), list()\n",
    "    for i in range(len(serie)):\n",
    "        # on cherche l'index de fin\n",
    "        end_ix = i + look_back\n",
    "        out_end_ix = end_ix + n_steps_out-1\n",
    "\n",
    "        # condition d'arrêt de la boucle : sinon valeurs NA \n",
    "        if out_end_ix + 1  > len(serie):\n",
    "            break\n",
    "        seq_x, seq_y = serie[i:end_ix], serie[end_ix:out_end_ix + 1]\n",
    "        X_train.append(seq_x)\n",
    "        y_predict.append(seq_y)\n",
    "    return array(X_train), array(y_predict)\n",
    "\n",
    "# On utilise par exemple 5 pas de temps pour prévoir les deux prochains\n",
    "X, y = supervi_format_uni(serie_entier, 5, 2)\n",
    "X = X.reshape((X.shape[0], 5))\n",
    "\n",
    "for i in range(len(X)):\n",
    "    print( f'input : {X[i]}, target : {y[i]}')\n",
    "    "
   ]
  },
  {
   "cell_type": "markdown",
   "id": "cf4718aa",
   "metadata": {},
   "source": [
    "#### Multinivarié"
   ]
  },
  {
   "cell_type": "markdown",
   "id": "1944c553",
   "metadata": {},
   "source": [
    "Supposons la série explicative suivante :"
   ]
  },
  {
   "cell_type": "code",
   "execution_count": 111,
   "id": "0e0dae83",
   "metadata": {},
   "outputs": [
    {
     "data": {
      "text/plain": [
       "array([ 0. , -0.1, -0.2, -0.3, -0.4, -0.5, -0.6, -0.7, -0.8, -0.9])"
      ]
     },
     "execution_count": 111,
     "metadata": {},
     "output_type": "execute_result"
    }
   ],
   "source": [
    "serie_feature =  - np.arange(10) / 10\n",
    "serie_feature"
   ]
  },
  {
   "cell_type": "markdown",
   "id": "ae7c2398",
   "metadata": {},
   "source": [
    "il faut dans un premier temps réunir la target et la feature (dans ce cas..)"
   ]
  },
  {
   "cell_type": "code",
   "execution_count": 116,
   "id": "b3985791",
   "metadata": {},
   "outputs": [
    {
     "data": {
      "text/plain": [
       "array([[ 0. ,  0. ],\n",
       "       [ 1. , -0.1],\n",
       "       [ 2. , -0.2],\n",
       "       [ 3. , -0.3],\n",
       "       [ 4. , -0.4],\n",
       "       [ 5. , -0.5],\n",
       "       [ 6. , -0.6],\n",
       "       [ 7. , -0.7],\n",
       "       [ 8. , -0.8],\n",
       "       [ 9. , -0.9]])"
      ]
     },
     "execution_count": 116,
     "metadata": {},
     "output_type": "execute_result"
    }
   ],
   "source": [
    "from numpy import hstack\n",
    "\n",
    "serie_feature = serie_feature.reshape(len(serie_feature),1)\n",
    "serie_target = serie_target.reshape(len(serie_target),1)\n",
    "\n",
    "serie_full = hstack((serie_target ,serie_feature))\n",
    "serie_full"
   ]
  },
  {
   "cell_type": "code",
   "execution_count": 128,
   "id": "4f91a111",
   "metadata": {},
   "outputs": [
    {
     "name": "stdout",
     "output_type": "stream",
     "text": [
      "input : [ 0.   0.   1.  -0.1  2.  -0.2  3.  -0.3], target : [4. 5. 6.]\n",
      "input : [ 1.  -0.1  2.  -0.2  3.  -0.3  4.  -0.4], target : [5. 6. 7.]\n",
      "input : [ 2.  -0.2  3.  -0.3  4.  -0.4  5.  -0.5], target : [6. 7. 8.]\n",
      "input : [ 3.  -0.3  4.  -0.4  5.  -0.5  6.  -0.6], target : [7. 8. 9.]\n"
     ]
    }
   ],
   "source": [
    "def supervi_format_multi(donnes_train, look_back, n_steps_out):\n",
    "    X_train, y_predict = list(), list()\n",
    "    for i in range(len(donnes_train)):\n",
    "        # on cherche l'index de fin\n",
    "        end_ix = i + look_back\n",
    "        out_end_ix = end_ix + n_steps_out-1\n",
    "\n",
    "        # condition d'arrêt de la boucle : sinon valeurs NA \n",
    "        if out_end_ix + 1  > len(donnes_train):\n",
    "            break\n",
    "        seq_x, seq_y = donnes_train[i:end_ix,:], donnes_train[end_ix:out_end_ix + 1,0]\n",
    "        X_train.append(seq_x)\n",
    "        y_predict.append(seq_y)\n",
    "    \n",
    "    return array(X_train), array(y_predict)\n",
    "\n",
    "X, y = supervi_format_multi(serie_full, 4, 3)\n",
    "\n",
    "n_input = X.shape[1] * X.shape[2]\n",
    "X = X.reshape((X.shape[0], n_input))\n",
    "\n",
    "for i in range(len(X)):\n",
    "    print( f'input : {X[i]}, target : {y[i]}')\n"
   ]
  },
  {
   "cell_type": "markdown",
   "id": "fe22ce0b",
   "metadata": {},
   "source": [
    "## Multi layers perceptrons"
   ]
  },
  {
   "cell_type": "markdown",
   "id": "2f21c3a3",
   "metadata": {},
   "source": [
    "Exemple de MLP pour la target \"Res tourisme Nice Belgique\" avec pour features : \"Google trend Belgique\" et \"Hospitalisation BE\""
   ]
  },
  {
   "cell_type": "code",
   "execution_count": 135,
   "id": "7d227315",
   "metadata": {},
   "outputs": [],
   "source": [
    "val_target = data['Res tourisme Nice Belgique'].values\n",
    "feature_var = [\"Google trend Belgique\",\"Hospitalisation BE\"]"
   ]
  },
  {
   "cell_type": "markdown",
   "id": "9265c108",
   "metadata": {},
   "source": [
    "Dans un premier temps il nous faut définir l'espace des paramètres avec les définitions"
   ]
  },
  {
   "cell_type": "code",
   "execution_count": 181,
   "id": "15a99925",
   "metadata": {},
   "outputs": [],
   "source": [
    "space = {'n_steps_out' : 10,\n",
    "         'train' : 91,\n",
    "         'look_back' : 25,\n",
    "         'epoch' : 2000,\n",
    "         'batch_size' : 32,\n",
    "         'regularisation' : 'l2',\n",
    "         'nb_neurones_input' : 1000,\n",
    "         'nb_neurones_interm' : [0,0],\n",
    "         'target' : val_target,\n",
    "         'liste_feature' : feature_var,\n",
    "         'data' : data,\n",
    "         'periode' : 24 \n",
    "        }"
   ]
  },
  {
   "cell_type": "markdown",
   "id": "3a7a1c91",
   "metadata": {},
   "source": [
    "##### Définitions\n",
    "\n",
    "- n_steps_out : nombre de pas de prévision à prévoir\n",
    "- train : taille de l'entrainement (la prévision se fait directement à la suite du jeu d'entrainement)\n",
    "- look_back : nombre d'observations à utiliser pour le format supervisé\n",
    "- epoch : nombre d'itération de back propagation \n",
    "- batch_size : une itération de back propagation se fait par paquet\n",
    "- regularisation : on ajoute un terme à la fonction erreur affin de limiter la taille des poids des neurones \n",
    "- nb_neurones_input : nombre de neurones sur la première couche \n",
    "- nb_neurones_interm : liste qui ajoute des couches avec N nombre de neurones [n,m] -> ajoute deux couches avec respectivement n et m neurones\n",
    "- target : notre target, ici \"Res tourisme Nice Belgique\"\n",
    "- liste_feature : la liste des noms des features\n",
    "- data : data frame qui contient les features\n",
    "- période : ajoute un sinus de période identique aux données (ici 2 valeurs par mois = 24)"
   ]
  },
  {
   "cell_type": "code",
   "execution_count": 177,
   "id": "b9ba3940",
   "metadata": {},
   "outputs": [],
   "source": [
    "def deeplearning_mlp(space):\n",
    "    \n",
    "    n_steps_out = space['n_steps_out']\n",
    "    train = space['train']\n",
    "    look = space['look_back']\n",
    "    epoch = space['epoch']\n",
    "    batch_size = space['batch_size']\n",
    "    regularisation = space['regularisation']\n",
    "    nb_neurones_input = space['nb_neurones_input']\n",
    "    nb_neurones_interm = space['nb_neurones_interm']\n",
    "    target = space['target']\n",
    "    liste_features = space['liste_feature']\n",
    "    data = space['data']\n",
    "    periode = space['periode']\n",
    "    \n",
    "    ### On ajoute l'indicateur saisonier \n",
    "    x = np.arange(len(target))\n",
    "    feature_saison = np.sin(2*x*np.pi/periode)\n",
    "    feature_saison = feature_saison.reshape(len(target),1)\n",
    "    \n",
    "    ### Scaling MinMax:\n",
    "    # Target \n",
    "    scaler_target = MinMaxScaler(feature_range=(0, 1))\n",
    "    scaler_target = scaler_target.fit(target.reshape(-1, 1))\n",
    "    normalized_target = scaler_target.transform(target.reshape(-1, 1))\n",
    "    target = normalized_target.reshape(len(target),1)\n",
    "    \n",
    "    # On rassemble dans un premier temps la target et la période\n",
    "    all_data = hstack((target ,feature_saison))\n",
    "    \n",
    "    # features\n",
    "    for i in range(len(liste_features)):\n",
    "        # extraire la feauture \n",
    "        feature_ = data[liste_features[i]].values\n",
    "        # scaler la feature\n",
    "        scaler_ = MinMaxScaler(feature_range=(0, 1))\n",
    "        scaler_ = scaler_.fit(feature_.reshape(-1, 1))\n",
    "        feature_ = scaler_.transform(feature_.reshape(-1, 1))\n",
    "        feature_ = feature_.reshape(len(target),1)\n",
    "        # hstack avec les autres features\n",
    "        all_data = hstack((all_data ,feature_))\n",
    "    \n",
    "    ### Creation du format supervisé\n",
    "    # On ne prend que la partie désirée < train\n",
    "    Data_train = all_data[:train,:]\n",
    "    len_Data_train = len(Data_train)\n",
    "    X_train, y_train = supervi_format_multi(Data_train,\n",
    "                                            look,\n",
    "                                            n_steps_out)\n",
    "  \n",
    "    n_input = X_train.shape[1] * X_train.shape[2]\n",
    "    X_train = X_train.reshape((X_train.shape[0], n_input))\n",
    "    for i in range(len(y_train)):\n",
    "        y_train[i] = y_train[i].tolist()\n",
    "\n",
    "    ### Creation du modèle\n",
    "    model = Sequential()\n",
    "    # Première couche\n",
    "    model.add(Dense(nb_neurones_input, activation='relu', input_dim=n_input,\n",
    "                    kernel_regularizer=regularisation))\n",
    "    model.add(Dropout(rate = 0.1))\n",
    "    # Couches additionelles\n",
    "    for i in range(len(nb_neurones_interm)):\n",
    "        if nb_neurones_interm[i] != 0 :\n",
    "            model.add(Dense(nb_neurones_interm[i],\n",
    "                            activation='relu',\n",
    "                            input_dim=n_input,\n",
    "                            kernel_regularizer=regularisation))\n",
    "    #couche de sortie et compilation\n",
    "    model.add(Dense(n_steps_out,kernel_regularizer=regularisation))\n",
    "    model.compile(optimizer='adam', loss='mse')\n",
    "   \n",
    "\n",
    "    ### Entrainement du modèle\n",
    "    # On peut definir un EarlyStopping qui va mettre fin à l'entrainement lorsque\n",
    "    # l'erreur sur le jeu de validation (ici 10% du data set) ne s'amméliore plus depuis 50 itérations\n",
    "    es = EarlyStopping(monitor='val_loss',mode='min',verbose=1,patience=100)\n",
    "    model.fit(X_train, y_train, epochs=epoch,\n",
    "              verbose=0, batch_size = batch_size,\n",
    "              validation_split=0.1,\n",
    "              callbacks=[es,TqdmCallback(verbose=1)],\n",
    "              shuffle = True)\n",
    "    ### Prediction\n",
    "    X_predict = array(all_data[:len_Data_train,:][-look:,:])\n",
    "    X_predict = X_predict.reshape(1,n_input)\n",
    "    y_predict = model.predict(X_predict, verbose=0)\n",
    "    # on fait le scaling inverse\n",
    "    y_predict = scaler_target.inverse_transform(y_predict)\n",
    "    \n",
    "    return y_predict    "
   ]
  },
  {
   "cell_type": "code",
   "execution_count": 164,
   "id": "39706016",
   "metadata": {},
   "outputs": [
    {
     "data": {
      "application/vnd.jupyter.widget-view+json": {
       "model_id": "cf0185e5e4054686bfd4fa440e4ac436",
       "version_major": 2,
       "version_minor": 0
      },
      "text/plain": [
       "0epoch [00:00, ?epoch/s]"
      ]
     },
     "metadata": {},
     "output_type": "display_data"
    },
    {
     "data": {
      "application/vnd.jupyter.widget-view+json": {
       "model_id": "",
       "version_major": 2,
       "version_minor": 0
      },
      "text/plain": [
       "0batch [00:00, ?batch/s]"
      ]
     },
     "metadata": {},
     "output_type": "display_data"
    },
    {
     "name": "stdout",
     "output_type": "stream",
     "text": [
      "Epoch 00646: early stopping\n"
     ]
    },
    {
     "data": {
      "text/plain": [
       "array([[684.34314, 489.11954, 455.04935]], dtype=float32)"
      ]
     },
     "execution_count": 164,
     "metadata": {},
     "output_type": "execute_result"
    }
   ],
   "source": [
    "deeplearning_mlp(space)"
   ]
  },
  {
   "cell_type": "code",
   "execution_count": 182,
   "id": "eac4f7dc",
   "metadata": {},
   "outputs": [
    {
     "data": {
      "application/vnd.jupyter.widget-view+json": {
       "model_id": "cd5670eb1f2541928c11acb50fb52ec6",
       "version_major": 2,
       "version_minor": 0
      },
      "text/plain": [
       "0epoch [00:00, ?epoch/s]"
      ]
     },
     "metadata": {},
     "output_type": "display_data"
    },
    {
     "data": {
      "application/vnd.jupyter.widget-view+json": {
       "model_id": "",
       "version_major": 2,
       "version_minor": 0
      },
      "text/plain": [
       "0batch [00:00, ?batch/s]"
      ]
     },
     "metadata": {},
     "output_type": "display_data"
    },
    {
     "name": "stdout",
     "output_type": "stream",
     "text": [
      "Epoch 00375: early stopping\n"
     ]
    },
    {
     "data": {
      "text/plain": [
       "<matplotlib.legend.Legend at 0x14c3506ebb0>"
      ]
     },
     "execution_count": 182,
     "metadata": {},
     "output_type": "execute_result"
    },
    {
     "data": {
      "image/png": "[encoded data removed]",
      "text/plain": [
       "<Figure size 1080x432 with 1 Axes>"
      ]
     },
     "metadata": {
      "needs_background": "light"
     },
     "output_type": "display_data"
    }
   ],
   "source": [
    "n_steps_out = 10\n",
    "val_target = data['Res tourisme Nice Belgique'].values\n",
    "len_Data_train = space['train']#len(val_target) - n_steps_out\n",
    "data_train = val_target[:len_Data_train]\n",
    "y_predict = deeplearning_mlp(space).reshape(n_steps_out,1)\n",
    "\n",
    "fig, axs = plt.subplots(figsize=(15,6))\n",
    "\n",
    "x = np.arange(len(val_target))\n",
    "x_predict = np.arange(len_Data_train, len_Data_train + n_steps_out)\n",
    "\n",
    "axs.plot(x, val_target,'o-', c = 'blue',label=\"target\")\n",
    "axs.plot(x_predict,y_predict,'o-', c = 'green',label=\"Prédiction\")\n",
    "\n",
    "plt.legend(bbox_to_anchor=(1.15, 1))"
   ]
  },
  {
   "cell_type": "markdown",
   "id": "a235f8ae",
   "metadata": {},
   "source": [
    "## LSTM"
   ]
  },
  {
   "cell_type": "markdown",
   "id": "136203b8",
   "metadata": {},
   "source": [
    "## SARIMA"
   ]
  },
  {
   "cell_type": "code",
   "execution_count": 19,
   "id": "0e42ad0b",
   "metadata": {},
   "outputs": [],
   "source": [
    "from math import sqrt\n",
    "from numpy import split\n",
    "from numpy import array\n",
    "from pandas import read_csv\n",
    "from sklearn.metrics import mean_squared_error\n",
    "import matplotlib.pyplot as plt \n",
    "import numpy as np\n",
    "from statsmodels.tsa.arima.model import ARIMA\n",
    "from statsmodels.tsa.statespace.sarimax import SARIMAX"
   ]
  },
  {
   "cell_type": "code",
   "execution_count": 55,
   "id": "fd188e3f",
   "metadata": {},
   "outputs": [
    {
     "name": "stderr",
     "output_type": "stream",
     "text": [
      "C:\\Users\\pouru\\anaconda3\\envs\\AtoutFrance\\lib\\site-packages\\statsmodels\\tsa\\statespace\\sarimax.py:866: UserWarning: Too few observations to estimate starting parameters for seasonal ARMA. All parameters except for variances will be set to zeros.\n",
      "  warn('Too few observations to estimate starting parameters%s.'\n",
      "C:\\Users\\pouru\\anaconda3\\envs\\AtoutFrance\\lib\\site-packages\\statsmodels\\base\\model.py:604: ConvergenceWarning: Maximum Likelihood optimization failed to converge. Check mle_retvals\n",
      "  warnings.warn(\"Maximum Likelihood optimization failed to \"\n"
     ]
    },
    {
     "data": {
      "text/plain": [
       "<matplotlib.legend.Legend at 0x14c25ab5760>"
      ]
     },
     "execution_count": 55,
     "metadata": {},
     "output_type": "execute_result"
    },
    {
     "data": {
      "image/png": "[encoded data removed]",
      "text/plain": [
       "<Figure size 1080x432 with 1 Axes>"
      ]
     },
     "metadata": {
      "needs_background": "light"
     },
     "output_type": "display_data"
    }
   ],
   "source": [
    "def arima_forecast(history, n_step_out):\n",
    "    # convert history into a univariate series\n",
    "    series = history\n",
    "    # define the model\n",
    "    #model = ARIMA(series, order=(7,1,1))\n",
    "    config = [(1,1,1), (1,1,1,24), 'c']\n",
    "    order, sorder, trend = config\n",
    "    model = SARIMAX(history, order=order, seasonal_order=sorder, trend=None)\n",
    "    # fit the model\n",
    "    model_fit = model.fit()\n",
    "    # make forecast\n",
    "    yhat = model_fit.predict(len(series), len(series)+n_step_out-1)\n",
    "    return yhat, model_fit\n",
    "\n",
    "n_steps_out = 3\n",
    "val_target = data['Res tourisme Nice Espagne'].values\n",
    "len_Data_train = len(val_target) - n_steps_out\n",
    "data_train = val_target[:len_Data_train]\n",
    "y_predict, model_fit = arima_forecast(data_train,n_steps_out)\n",
    "\n",
    "fig, axs = plt.subplots(figsize=(15,6))\n",
    "\n",
    "x = np.arange(len(val_target))\n",
    "x_predict = np.arange(len_Data_train, len_Data_train + n_steps_out)\n",
    "\n",
    "axs.plot(x, val_target,'o-', c = 'blue',label=\"target\")\n",
    "axs.plot(x_predict,y_predict,'o-', c = 'green',label=\"Prédiction\")\n",
    "\n",
    "plt.legend(bbox_to_anchor=(1.15, 1))"
   ]
  },
  {
   "cell_type": "code",
   "execution_count": null,
   "id": "e3f53938",
   "metadata": {},
   "outputs": [],
   "source": []
  }
 ],
 "metadata": {
  "kernelspec": {
   "display_name": "AtoutFrance",
   "language": "python",
   "name": "atoutfrance"
  },
  "language_info": {
   "codemirror_mode": {
    "name": "ipython",
    "version": 3
   },
   "file_extension": ".py",
   "mimetype": "text/x-python",
   "name": "python",
   "nbconvert_exporter": "python",
   "pygments_lexer": "ipython3",
   "version": "3.9.7"
  }
 },
 "nbformat": 4,
 "nbformat_minor": 5
}
